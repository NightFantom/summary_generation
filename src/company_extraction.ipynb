{
 "cells": [
  {
   "cell_type": "code",
   "execution_count": 1,
   "metadata": {
    "collapsed": true,
    "pycharm": {
     "is_executing": false
    }
   },
   "outputs": [],
   "source": [
    "BASE_DIR = \"/Users/denis/MyProjects/Summarization\"\n",
    "GRAPH_BASE_DIR = \"/Users/denis/MyProjects/uncased_L-12_H-768_A-12\""
   ]
  },
  {
   "cell_type": "code",
   "execution_count": 2,
   "outputs": [],
   "source": [
    "import os\n",
    "from bert_experimental.feature_extraction.bert_feature_extractor import BERTFeatureExtractor\n",
    "from tree_rank_summaraiser import TreeRankSummariser\n",
    "import global_const\n",
    "import pandas as pd\n",
    "import glob\n",
    "import time\n",
    "import logging\n",
    "import numpy as np\n",
    "logging.basicConfig(level=logging.DEBUG)"
   ],
   "metadata": {
    "collapsed": false,
    "pycharm": {
     "name": "#%%\n",
     "is_executing": false
    }
   }
  },
  {
   "cell_type": "code",
   "execution_count": 3,
   "outputs": [
    {
     "name": "stderr",
     "text": [
      "2020-05-10 14:08:27,558 :  From /Users/denis/anaconda3/envs/Summarization/lib/python3.6/site-packages/bert_experimental/feature_extraction/text_preprocessing.py:287: The name tf.gfile.GFile is deprecated. Please use tf.io.gfile.GFile instead.\n\n",
      "WARNING:tensorflow:From /Users/denis/anaconda3/envs/Summarization/lib/python3.6/site-packages/bert_experimental/feature_extraction/text_preprocessing.py:287: The name tf.gfile.GFile is deprecated. Please use tf.io.gfile.GFile instead.\n\n",
      "2020-05-10 14:08:27,670 :  From /Users/denis/anaconda3/envs/Summarization/lib/python3.6/site-packages/bert_experimental/feature_extraction/bert_feature_extractor.py:52: The name tf.ConfigProto is deprecated. Please use tf.compat.v1.ConfigProto instead.\n\n",
      "WARNING:tensorflow:From /Users/denis/anaconda3/envs/Summarization/lib/python3.6/site-packages/bert_experimental/feature_extraction/bert_feature_extractor.py:52: The name tf.ConfigProto is deprecated. Please use tf.compat.v1.ConfigProto instead.\n\n",
      "2020-05-10 14:08:27,672 :  From /Users/denis/anaconda3/envs/Summarization/lib/python3.6/site-packages/bert_experimental/feature_extraction/bert_feature_extractor.py:38: The name tf.Session is deprecated. Please use tf.compat.v1.Session instead.\n\n",
      "WARNING:tensorflow:From /Users/denis/anaconda3/envs/Summarization/lib/python3.6/site-packages/bert_experimental/feature_extraction/bert_feature_extractor.py:38: The name tf.Session is deprecated. Please use tf.compat.v1.Session instead.\n\n",
      "2020-05-10 14:08:27,689 :  Using temporary folder as model directory: /var/folders/lx/02q9j0f52ds3f_h7jnq_dvmm0000gp/T/tmposfesh7k\n",
      "WARNING:tensorflow:Using temporary folder as model directory: /var/folders/lx/02q9j0f52ds3f_h7jnq_dvmm0000gp/T/tmposfesh7k\n",
      "2020-05-10 14:08:27,694 :  Using config: {'_model_dir': '/var/folders/lx/02q9j0f52ds3f_h7jnq_dvmm0000gp/T/tmposfesh7k', '_tf_random_seed': None, '_save_summary_steps': 100, '_save_checkpoints_steps': None, '_save_checkpoints_secs': 600, '_session_config': device_count {\n  key: \"GPU\"\n  value: 1\n}\ngpu_options {\n  allow_growth: true\n}\n, '_keep_checkpoint_max': 5, '_keep_checkpoint_every_n_hours': 10000, '_log_step_count_steps': 100, '_train_distribute': None, '_device_fn': None, '_protocol': None, '_eval_distribute': None, '_experimental_distribute': None, '_experimental_max_worker_delay_secs': None, '_session_creation_timeout_secs': 7200, '_service': None, '_cluster_spec': <tensorflow.python.training.server_lib.ClusterSpec object at 0x1457bb748>, '_task_type': 'worker', '_task_id': 0, '_global_id_in_cluster': 0, '_master': '', '_evaluation_master': '', '_is_chief': True, '_num_ps_replicas': 0, '_num_worker_replicas': 1}\n",
      "INFO:tensorflow:Using config: {'_model_dir': '/var/folders/lx/02q9j0f52ds3f_h7jnq_dvmm0000gp/T/tmposfesh7k', '_tf_random_seed': None, '_save_summary_steps': 100, '_save_checkpoints_steps': None, '_save_checkpoints_secs': 600, '_session_config': device_count {\n  key: \"GPU\"\n  value: 1\n}\ngpu_options {\n  allow_growth: true\n}\n, '_keep_checkpoint_max': 5, '_keep_checkpoint_every_n_hours': 10000, '_log_step_count_steps': 100, '_train_distribute': None, '_device_fn': None, '_protocol': None, '_eval_distribute': None, '_experimental_distribute': None, '_experimental_max_worker_delay_secs': None, '_session_creation_timeout_secs': 7200, '_service': None, '_cluster_spec': <tensorflow.python.training.server_lib.ClusterSpec object at 0x1457bb748>, '_task_type': 'worker', '_task_id': 0, '_global_id_in_cluster': 0, '_master': '', '_evaluation_master': '', '_is_chief': True, '_num_ps_replicas': 0, '_num_worker_replicas': 1}\n",
      "2020-05-10 14:08:27,698 :  Could not find trained model in model_dir: /var/folders/lx/02q9j0f52ds3f_h7jnq_dvmm0000gp/T/tmposfesh7k, running initialization to predict.\n",
      "INFO:tensorflow:Could not find trained model in model_dir: /var/folders/lx/02q9j0f52ds3f_h7jnq_dvmm0000gp/T/tmposfesh7k, running initialization to predict.\n",
      "2020-05-10 14:08:27,762 :  Calling model_fn.\n",
      "INFO:tensorflow:Calling model_fn.\n",
      "2020-05-10 14:08:27,764 :  From /Users/denis/anaconda3/envs/Summarization/lib/python3.6/site-packages/bert_experimental/feature_extraction/bert_feature_extractor.py:59: The name tf.GraphDef is deprecated. Please use tf.compat.v1.GraphDef instead.\n\n",
      "WARNING:tensorflow:From /Users/denis/anaconda3/envs/Summarization/lib/python3.6/site-packages/bert_experimental/feature_extraction/bert_feature_extractor.py:59: The name tf.GraphDef is deprecated. Please use tf.compat.v1.GraphDef instead.\n\n",
      "2020-05-10 14:08:30,062 :  Done calling model_fn.\n",
      "INFO:tensorflow:Done calling model_fn.\n",
      "2020-05-10 14:08:30,208 :  From /Users/denis/anaconda3/envs/Summarization/lib/python3.6/site-packages/tensorflow_core/python/ops/array_ops.py:1475: where (from tensorflow.python.ops.array_ops) is deprecated and will be removed in a future version.\nInstructions for updating:\nUse tf.where in 2.0, which has the same broadcast rule as np.where\n",
      "WARNING:tensorflow:From /Users/denis/anaconda3/envs/Summarization/lib/python3.6/site-packages/tensorflow_core/python/ops/array_ops.py:1475: where (from tensorflow.python.ops.array_ops) is deprecated and will be removed in a future version.\nInstructions for updating:\nUse tf.where in 2.0, which has the same broadcast rule as np.where\n",
      "2020-05-10 14:08:30,257 :  Graph was finalized.\n",
      "INFO:tensorflow:Graph was finalized.\n",
      "2020-05-10 14:08:33,287 :  Running local_init_op.\n",
      "INFO:tensorflow:Running local_init_op.\n",
      "2020-05-10 14:08:34,398 :  Done running local_init_op.\n",
      "INFO:tensorflow:Done running local_init_op.\n",
      "2020-05-10 14:08:48,429 :  Initialized.\n",
      "INFO:tensorflow:Initialized.\n"
     ],
     "output_type": "stream"
    }
   ],
   "source": [
    "GRAPH_PATH = os.path.join(GRAPH_BASE_DIR, \"model_for_inference.pbtxt\")\n",
    "VOCAB_PATH = os.path.join(GRAPH_BASE_DIR, \"vocab.txt\")\n",
    "\n",
    "encoder = BERTFeatureExtractor(GRAPH_PATH, VOCAB_PATH)"
   ],
   "metadata": {
    "collapsed": false,
    "pycharm": {
     "name": "#%%\n",
     "is_executing": false
    }
   }
  },
  {
   "cell_type": "code",
   "execution_count": 4,
   "outputs": [],
   "source": [
    "summariser = TreeRankSummariser(3, encoder)"
   ],
   "metadata": {
    "collapsed": false,
    "pycharm": {
     "name": "#%%\n",
     "is_executing": false
    }
   }
  },
  {
   "cell_type": "code",
   "execution_count": 19,
   "outputs": [
    {
     "name": "stderr",
     "text": [
      "DEBUG:tree_rank_summaraiser:Extracted 16 sentences\n",
      "DEBUG:tree_rank_summaraiser:Pattern: (^|[\\.,\":'!?()\\s])(norwegian cruise line|norwegian cruise)($|[\\.,\":'!?()\\s])\n",
      "DEBUG:tree_rank_summaraiser:Sentence 0 got weight. ISIN - Norwegian Cruise Line\n",
      "DEBUG:tree_rank_summaraiser:nclh investor alert: bronstein, gewirtz & grossman, llc reminds norwegian cruise line holdings ltd. investors of class action and encourages investors with losses in excess of $100,000 to contact the firm.\n",
      "DEBUG:tree_rank_summaraiser:Sentence 1 got weight. ISIN - Norwegian Cruise Line\n",
      "DEBUG:tree_rank_summaraiser:new york, april 29, 2020 (globe newswire) -- attorney advertising -- bronstein, gewirtz & grossman, llc reminds investors that a class action lawsuit has been filed against norwegian cruise line holdings ltd. (\"norwegian\" or the company\") (nyse:nclh) and certain of its officers, on behalf of shareholders who purchased or otherwise acquired norwegian securities between february 20, 2020 and march 12, 2020, both dates inclusive (the \"class period\").\n",
      "DEBUG:tree_rank_summaraiser:Pattern: (^|[\\.,\":'!?()\\s])(carnival corporation|ccl)($|[\\.,\":'!?()\\s])\n"
     ],
     "output_type": "stream"
    },
    {
     "name": "stdout",
     "text": [
      "/Users/denis/MyProjects/Summarization/data/Companies' news/Norwegian Cruise Line/NCLH INVESTOR ALERT: Bronstein, Gewirtz & Grossman\n"
     ],
     "output_type": "stream"
    }
   ],
   "source": [
    "pattern_str = \"/Users/denis/MyProjects/Summarization/data/Companies' news/Norwegian Cruise Line/*\"\n",
    "files_list = glob.glob(pattern_str)\n",
    "data_list = []\n",
    "company_name_list = [\"Norwegian Cruise Line\", \"Norwegian Cruise\"]\n",
    "# company_name_list = [\"Carnival\"]\n",
    "# company_name_list = [\"Pfizer\"]\n",
    "\n",
    "companies = [\n",
    "    {\n",
    "        global_const.COMPANY_ISIN: \"Norwegian Cruise Line\",\n",
    "        global_const.COMPANY_NAMES: [\"Norwegian Cruise Line\", \"Norwegian Cruise\"]\n",
    "     },\n",
    "    {\n",
    "        global_const.COMPANY_ISIN: \"Carnival corporation\",\n",
    "        global_const.COMPANY_NAMES: [\"carnival corporation\", \"ccl\"]\n",
    "    }\n",
    "]\n",
    "\n",
    "time_list = []\n",
    "for path in files_list:\n",
    "    print(path)\n",
    "    with open(path) as file:\n",
    "        article_str = file.read()\n",
    "    \n",
    "    start = time.time()\n",
    "    article_sum_dict = summariser.get_summary_for_companies(article_str, companies)\n",
    "    finish = time.time()\n",
    "    time_list.append(finish - start)\n",
    "    for isin, summary in article_sum_dict.items():\n",
    "        data_list.append({\n",
    "            \"News\": article_str,\n",
    "            \"Summarization\": summary,\n",
    "            \"isin\": isin\n",
    "        })\n",
    "    \n",
    "pd.DataFrame(data=data_list).to_excel(f\"/Users/denis/MyProjects/Summarization/data/Companies' news/Norwegian Cruise Line.xls\")"
   ],
   "metadata": {
    "collapsed": false,
    "pycharm": {
     "name": "#%%\n",
     "is_executing": false
    }
   }
  },
  {
   "cell_type": "code",
   "execution_count": 12,
   "outputs": [],
   "source": [
    "time_np = np.array(time_list)"
   ],
   "metadata": {
    "collapsed": false,
    "pycharm": {
     "name": "#%%\n",
     "is_executing": false
    }
   }
  },
  {
   "cell_type": "code",
   "execution_count": 13,
   "outputs": [
    {
     "data": {
      "text/plain": "1.1565142556240684"
     },
     "metadata": {},
     "output_type": "execute_result",
     "execution_count": 13
    }
   ],
   "source": [
    "time_np.mean()"
   ],
   "metadata": {
    "collapsed": false,
    "pycharm": {
     "name": "#%%\n",
     "is_executing": false
    }
   }
  },
  {
   "cell_type": "code",
   "execution_count": 14,
   "outputs": [
    {
     "data": {
      "text/plain": "1.1997120380401611"
     },
     "metadata": {},
     "output_type": "execute_result",
     "execution_count": 14
    }
   ],
   "source": [
    "np.median(time_np)"
   ],
   "metadata": {
    "collapsed": false,
    "pycharm": {
     "name": "#%%\n",
     "is_executing": false
    }
   }
  },
  {
   "cell_type": "code",
   "execution_count": 15,
   "outputs": [
    {
     "data": {
      "text/plain": "array([1.01074505, 0.93726516, 0.58451486, 0.45749283, 2.37396479,\n       1.2654283 , 1.59219909, 0.95171022, 1.19971204, 1.28116202,\n       1.62971997, 0.78404903, 1.44331813, 1.29001617, 1.02800989,\n       1.32319903, 0.87023902, 0.59609008, 1.35493517])"
     },
     "metadata": {},
     "output_type": "execute_result",
     "execution_count": 15
    }
   ],
   "source": [
    "time_np"
   ],
   "metadata": {
    "collapsed": false,
    "pycharm": {
     "name": "#%%\n",
     "is_executing": false
    }
   }
  },
  {
   "cell_type": "code",
   "execution_count": null,
   "outputs": [],
   "source": [
    "\n"
   ],
   "metadata": {
    "collapsed": false,
    "pycharm": {
     "name": "#%%\n"
    }
   }
  }
 ],
 "metadata": {
  "language_info": {
   "codemirror_mode": {
    "name": "ipython",
    "version": 2
   },
   "file_extension": ".py",
   "mimetype": "text/x-python",
   "name": "python",
   "nbconvert_exporter": "python",
   "pygments_lexer": "ipython2",
   "version": "2.7.6"
  },
  "kernelspec": {
   "name": "python3",
   "language": "python",
   "display_name": "Python 3"
  },
  "pycharm": {
   "stem_cell": {
    "cell_type": "raw",
    "source": [],
    "metadata": {
     "collapsed": false
    }
   }
  }
 },
 "nbformat": 4,
 "nbformat_minor": 0
}