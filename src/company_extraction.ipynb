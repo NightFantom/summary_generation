{
 "cells": [
  {
   "cell_type": "code",
   "execution_count": null,
   "metadata": {
    "pycharm": {
     "is_executing": false
    }
   },
   "outputs": [],
   "source": [
    "BASE_DIR = \"/Users/denis/MyProjects/Summarization\"\n",
    "GRAPH_BASE_DIR = \"/Users/denis/MyProjects/uncased_L-12_H-768_A-12\""
   ]
  },
  {
   "cell_type": "code",
   "execution_count": null,
   "metadata": {
    "pycharm": {
     "is_executing": false,
     "name": "#%%\n"
    }
   },
   "outputs": [],
   "source": [
    "import os\n",
    "from tree_rank_summaraiser import TreeRankSummariser\n",
    "import global_const\n",
    "import pandas as pd\n",
    "import glob\n",
    "import time\n",
    "import logging\n",
    "import numpy as np\n",
    "logging.basicConfig(level=logging.DEBUG)\n",
    "from encoders.encoder_factory import EncoderFactory\n"
   ]
  },
  {
   "cell_type": "code",
   "execution_count": null,
   "metadata": {
    "pycharm": {
     "is_executing": false,
     "name": "#%%\n"
    }
   },
   "outputs": [],
   "source": [
    "GRAPH_PATH = os.path.join(GRAPH_BASE_DIR, \"model_for_inference.pbtxt\")\n",
    "VOCAB_PATH = os.path.join(GRAPH_BASE_DIR, \"vocab.txt\")\n",
    "\n",
    "encoder_conf_dict = {\n",
    "    \"default\": {\n",
    "        \"type\": \"bert_embedded\",\n",
    "        \"input_dim\": 1,\n",
    "        \"output_dim\": 768,\n",
    "        \"params\": {\n",
    "            \"graph\": {\n",
    "                \"path_desc\": {\n",
    "                    \"type\": \"absolute\",\n",
    "                    \"file\": GRAPH_PATH\n",
    "                }\n",
    "            },\n",
    "            \"vocab\": {\n",
    "                \"path_desc\": {\n",
    "                    \"type\": \"absolute\",\n",
    "                    \"file\": VOCAB_PATH\n",
    "                }\n",
    "            }\n",
    "        }\n",
    "   }\n",
    "}\n",
    "encoder_factory = EncoderFactory(encoder_conf_dict)\n",
    "\n",
    "encoder = encoder_factory.get_encoder(\"default\")"
   ]
  },
  {
   "cell_type": "code",
   "execution_count": null,
   "metadata": {
    "pycharm": {
     "is_executing": false,
     "name": "#%%\n"
    }
   },
   "outputs": [],
   "source": [
    "summariser = TreeRankSummariser(3, encoder)"
   ]
  },
  {
   "cell_type": "code",
   "execution_count": null,
   "metadata": {
    "pycharm": {
     "is_executing": false,
     "name": "#%%\n"
    }
   },
   "outputs": [],
   "source": [
    "pattern_str = \"/Users/denis/MyProjects/Summarization/data/Companies' news/Norwegian Cruise Line/*\"\n",
    "files_list = glob.glob(pattern_str)\n",
    "data_list = []\n",
    "company_name_list = [\"Norwegian Cruise Line\", \"Norwegian Cruise\"]\n",
    "# company_name_list = [\"Carnival\"]\n",
    "# company_name_list = [\"Pfizer\"]\n",
    "\n",
    "companies = [\n",
    "    {\n",
    "        global_const.COMPANY_ISIN: \"Norwegian Cruise Line\",\n",
    "        global_const.COMPANY_NAMES: [\"Norwegian Cruise Line\", \"Norwegian Cruise\"]\n",
    "     },\n",
    "    {\n",
    "        global_const.COMPANY_ISIN: \"Carnival corporation\",\n",
    "        global_const.COMPANY_NAMES: [\"carnival corporation\", \"ccl\"]\n",
    "    }\n",
    "]\n",
    "\n",
    "time_list = []\n",
    "for path in files_list:\n",
    "    print(path)\n",
    "    with open(path) as file:\n",
    "        article_str = file.read()\n",
    "    \n",
    "    start = time.time()\n",
    "    article_sum_dict = summariser.get_summary_for_companies(article_str, companies)\n",
    "    finish = time.time()\n",
    "    time_list.append(finish - start)\n",
    "    for isin, summary in article_sum_dict.items():\n",
    "        data_list.append({\n",
    "            \"News\": article_str,\n",
    "            \"Summarization\": summary,\n",
    "            \"isin\": isin\n",
    "        })\n",
    "    \n",
    "pd.DataFrame(data=data_list).to_excel(f\"/Users/denis/MyProjects/Summarization/data/Companies' news/Norwegian Cruise Line.xls\")"
   ]
  },
  {
   "cell_type": "code",
   "execution_count": null,
   "metadata": {
    "pycharm": {
     "is_executing": false,
     "name": "#%%\n"
    }
   },
   "outputs": [],
   "source": [
    "time_np = np.array(time_list)"
   ]
  },
  {
   "cell_type": "code",
   "execution_count": null,
   "metadata": {
    "pycharm": {
     "is_executing": false,
     "name": "#%%\n"
    }
   },
   "outputs": [],
   "source": [
    "time_np.mean()"
   ]
  },
  {
   "cell_type": "code",
   "execution_count": null,
   "metadata": {
    "pycharm": {
     "is_executing": false,
     "name": "#%%\n"
    }
   },
   "outputs": [],
   "source": [
    "np.median(time_np)"
   ]
  },
  {
   "cell_type": "code",
   "execution_count": null,
   "metadata": {
    "pycharm": {
     "is_executing": false,
     "name": "#%%\n"
    }
   },
   "outputs": [],
   "source": [
    "time_np"
   ]
  }
 ],
 "metadata": {
  "kernelspec": {
   "display_name": "Python 3",
   "language": "python",
   "name": "python3"
  },
  "language_info": {
   "codemirror_mode": {
    "name": "ipython",
    "version": 3
   },
   "file_extension": ".py",
   "mimetype": "text/x-python",
   "name": "python",
   "nbconvert_exporter": "python",
   "pygments_lexer": "ipython3",
   "version": "3.6.10"
  },
  "pycharm": {
   "stem_cell": {
    "cell_type": "raw",
    "metadata": {
     "collapsed": false
    },
    "source": []
   }
  },
  "toc": {
   "base_numbering": 1,
   "nav_menu": {},
   "number_sections": true,
   "sideBar": true,
   "skip_h1_title": false,
   "title_cell": "Table of Contents",
   "title_sidebar": "Contents",
   "toc_cell": false,
   "toc_position": {},
   "toc_section_display": true,
   "toc_window_display": false
  }
 },
 "nbformat": 4,
 "nbformat_minor": 1
}
