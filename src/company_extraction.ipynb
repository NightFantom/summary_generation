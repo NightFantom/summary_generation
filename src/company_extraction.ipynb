{
 "cells": [
  {
   "cell_type": "code",
   "execution_count": 1,
   "metadata": {
    "collapsed": true,
    "pycharm": {
     "is_executing": false
    }
   },
   "outputs": [],
   "source": [
    "BASE_DIR = \"/Users/denis/MyProjects/Summarization\"\n",
    "GRAPH_BASE_DIR = \"/Users/denis/MyProjects/uncased_L-12_H-768_A-12\""
   ]
  },
  {
   "cell_type": "code",
   "execution_count": 2,
   "outputs": [],
   "source": [
    "import os\n",
    "import numpy as np\n",
    "from bert_experimental.feature_extraction.bert_feature_extractor import BERTFeatureExtractor\n",
    "from tree_rank_summaraiser import TreeRankSummariser\n",
    "from data_generators.article_reference_yml_gen import ArticleReferenceGenerator\n",
    "import global_const as glob_cont\n",
    "import rouge\n",
    "from tqdm import tqdm\n",
    "from utils import evaluate\n",
    "from nltk import sent_tokenize\n",
    "import pandas as pd\n",
    "import glob"
   ],
   "metadata": {
    "collapsed": false,
    "pycharm": {
     "name": "#%%\n",
     "is_executing": false
    }
   }
  },
  {
   "cell_type": "code",
   "execution_count": 3,
   "outputs": [
    {
     "name": "stderr",
     "text": [
      "2020-05-07 14:05:37,859 :  From /Users/denis/anaconda3/envs/Summarization/lib/python3.6/site-packages/bert_experimental/feature_extraction/text_preprocessing.py:287: The name tf.gfile.GFile is deprecated. Please use tf.io.gfile.GFile instead.\n\n",
      "2020-05-07 14:05:37,942 :  From /Users/denis/anaconda3/envs/Summarization/lib/python3.6/site-packages/bert_experimental/feature_extraction/bert_feature_extractor.py:52: The name tf.ConfigProto is deprecated. Please use tf.compat.v1.ConfigProto instead.\n\n",
      "2020-05-07 14:05:37,943 :  From /Users/denis/anaconda3/envs/Summarization/lib/python3.6/site-packages/bert_experimental/feature_extraction/bert_feature_extractor.py:38: The name tf.Session is deprecated. Please use tf.compat.v1.Session instead.\n\n",
      "2020-05-07 14:05:37,960 :  Using temporary folder as model directory: /var/folders/lx/02q9j0f52ds3f_h7jnq_dvmm0000gp/T/tmpkh8mrlag\n",
      "2020-05-07 14:05:37,962 :  Using config: {'_model_dir': '/var/folders/lx/02q9j0f52ds3f_h7jnq_dvmm0000gp/T/tmpkh8mrlag', '_tf_random_seed': None, '_save_summary_steps': 100, '_save_checkpoints_steps': None, '_save_checkpoints_secs': 600, '_session_config': device_count {\n  key: \"GPU\"\n  value: 1\n}\ngpu_options {\n  allow_growth: true\n}\n, '_keep_checkpoint_max': 5, '_keep_checkpoint_every_n_hours': 10000, '_log_step_count_steps': 100, '_train_distribute': None, '_device_fn': None, '_protocol': None, '_eval_distribute': None, '_experimental_distribute': None, '_experimental_max_worker_delay_secs': None, '_session_creation_timeout_secs': 7200, '_service': None, '_cluster_spec': <tensorflow.python.training.server_lib.ClusterSpec object at 0x14a3f9da0>, '_task_type': 'worker', '_task_id': 0, '_global_id_in_cluster': 0, '_master': '', '_evaluation_master': '', '_is_chief': True, '_num_ps_replicas': 0, '_num_worker_replicas': 1}\n",
      "2020-05-07 14:05:37,963 :  Could not find trained model in model_dir: /var/folders/lx/02q9j0f52ds3f_h7jnq_dvmm0000gp/T/tmpkh8mrlag, running initialization to predict.\n",
      "2020-05-07 14:05:38,037 :  Calling model_fn.\n",
      "2020-05-07 14:05:38,038 :  From /Users/denis/anaconda3/envs/Summarization/lib/python3.6/site-packages/bert_experimental/feature_extraction/bert_feature_extractor.py:59: The name tf.GraphDef is deprecated. Please use tf.compat.v1.GraphDef instead.\n\n",
      "2020-05-07 14:05:41,140 :  Done calling model_fn.\n",
      "2020-05-07 14:05:41,164 :  From /Users/denis/anaconda3/envs/Summarization/lib/python3.6/site-packages/tensorflow_core/python/ops/array_ops.py:1475: where (from tensorflow.python.ops.array_ops) is deprecated and will be removed in a future version.\nInstructions for updating:\nUse tf.where in 2.0, which has the same broadcast rule as np.where\n",
      "2020-05-07 14:05:41,230 :  Graph was finalized.\n",
      "2020-05-07 14:05:44,690 :  Running local_init_op.\n",
      "2020-05-07 14:05:45,977 :  Done running local_init_op.\n",
      "2020-05-07 14:06:03,276 :  Initialized.\n"
     ],
     "output_type": "stream"
    }
   ],
   "source": [
    "GRAPH_PATH = os.path.join(GRAPH_BASE_DIR, \"model_for_inference.pbtxt\")\n",
    "VOCAB_PATH = os.path.join(GRAPH_BASE_DIR, \"vocab.txt\")\n",
    "\n",
    "encoder = BERTFeatureExtractor(GRAPH_PATH, VOCAB_PATH)\n",
    "summariser = TreeRankSummariser(4, encoder)"
   ],
   "metadata": {
    "collapsed": false,
    "pycharm": {
     "name": "#%%\n",
     "is_executing": false
    }
   }
  },
  {
   "cell_type": "code",
   "execution_count": 7,
   "outputs": [
    {
     "name": "stdout",
     "text": [
      "/Users/denis/MyProjects/Summarization/data/Companies' news/Pfizer/Pfizer, BioNTech finish dosing in COVID-19 vax tes\nTotal 24\nGet weigth\nGet weigth\nGet weigth\nGet weigth\nGet weigth\nGet weigth\n",
      "4\n",
      "4\n/Users/denis/MyProjects/Summarization/data/Companies' news/Pfizer/GLOBAL CAR T CELL THERAPY MARKET 2019 CELLECTIS, J\nTotal 27\nGet weigth\nGet weigth\n",
      "4\n",
      "4\n/Users/denis/MyProjects/Summarization/data/Companies' news/Pfizer/Pfizer readies COVID-19 vaccine for September laun\nTotal 12\nGet weigth\nGet weigth\nGet weigth\nGet weigth\n",
      "4\n",
      "4\n/Users/denis/MyProjects/Summarization/data/Companies' news/Pfizer/GLOBAL DICLOFENAC MARKET OVERVIEW 2019-2025 : AURO\nTotal 14\nGet weigth\nGet weigth\n",
      "4\n",
      "4\n/Users/denis/MyProjects/Summarization/data/Companies' news/Pfizer/Pfizer’s COVID-19 vaccine ready by September, GSK’\nTotal 22\nGet weigth\nGet weigth\nGet weigth\nGet weigth\nGet weigth\nGet weigth\n",
      "4\n",
      "4\n"
     ],
     "output_type": "stream"
    }
   ],
   "source": [
    "pattern_str = \"/Users/denis/MyProjects/Summarization/data/Companies' news/Pfizer/*\"\n",
    "files_list = glob.glob(pattern_str)\n",
    "data_list = []\n",
    "# company_name_list = [\"Norwegian Cruise Line\", \"Norwegian Cruise\", \"Cruise Line\"]\n",
    "# company_name_list = [\"Carnival\"]\n",
    "company_name_list = [\"Pfizer\"]\n",
    "for path in files_list:\n",
    "    print(path)\n",
    "    with open(path) as file:\n",
    "        article_str = file.read()\n",
    "        \n",
    "    personalization = {}\n",
    "    sentence_list = sent_tokenize(article_str.lower())\n",
    "    print(f\"Total {len(sentence_list)}\")\n",
    "    for index,sentence in enumerate(sentence_list):\n",
    "        point = 0.1\n",
    "        for company_name in company_name_list:\n",
    "            if company_name.lower() in sentence:\n",
    "                print(\"Get weigth\")\n",
    "                point = 0.2\n",
    "                break\n",
    "        personalization[index] = point\n",
    "    \n",
    "    article_sum_list = summariser.get_summary_by_sentence(sentence_list, personalization)\n",
    "    generated_sum_company_based = \". \".join(article_sum_list)\n",
    "    print(len(article_sum_list))\n",
    "    article_sum_list = summariser.get_summary(article_str)\n",
    "    generated_sum_general = \". \".join(article_sum_list)\n",
    "    print(len(article_sum_list))\n",
    "    data_list.append({\n",
    "        \"News\": article_str,\n",
    "        \"General summarization\": generated_sum_general,\n",
    "        \"Company based summarization\": generated_sum_company_based,\n",
    "        \"Are both summaries the same\": generated_sum_company_based == generated_sum_general\n",
    "    })\n",
    "    \n",
    "pd.DataFrame(data=data_list).to_excel(f\"/Users/denis/MyProjects/Summarization/data/Companies' news/Pfizer.xls\")"
   ],
   "metadata": {
    "collapsed": false,
    "pycharm": {
     "name": "#%%\n",
     "is_executing": false
    }
   }
  },
  {
   "cell_type": "code",
   "execution_count": 10,
   "outputs": [],
   "source": [],
   "metadata": {
    "collapsed": false,
    "pycharm": {
     "name": "#%%\n",
     "is_executing": false
    }
   }
  },
  {
   "cell_type": "code",
   "execution_count": 11,
   "outputs": [],
   "source": [
    "path = \"/Users/denis/MyProjects/Summarization/data/Companies' news/result_2.txt\"\n",
    "with open(path, mode=\"w\") as file:\n",
    "    for el in article_sum_list:\n",
    "        file.write(el)\n",
    "        file.write(\"\\n\")"
   ],
   "metadata": {
    "collapsed": false,
    "pycharm": {
     "name": "#%%\n",
     "is_executing": false
    }
   }
  },
  {
   "cell_type": "code",
   "execution_count": null,
   "outputs": [],
   "source": [
    "\n"
   ],
   "metadata": {
    "collapsed": false,
    "pycharm": {
     "name": "#%%\n"
    }
   }
  }
 ],
 "metadata": {
  "language_info": {
   "codemirror_mode": {
    "name": "ipython",
    "version": 2
   },
   "file_extension": ".py",
   "mimetype": "text/x-python",
   "name": "python",
   "nbconvert_exporter": "python",
   "pygments_lexer": "ipython2",
   "version": "2.7.6"
  },
  "kernelspec": {
   "name": "python3",
   "language": "python",
   "display_name": "Python 3"
  },
  "pycharm": {
   "stem_cell": {
    "cell_type": "raw",
    "source": [],
    "metadata": {
     "collapsed": false
    }
   }
  }
 },
 "nbformat": 4,
 "nbformat_minor": 0
}