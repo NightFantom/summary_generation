{
 "cells": [
  {
   "cell_type": "code",
   "execution_count": 1,
   "metadata": {
    "collapsed": true,
    "pycharm": {
     "is_executing": false
    }
   },
   "outputs": [],
   "source": [
    "BASE_DIR = \"/Users/denis/MyProjects/Summarization\"\n",
    "GRAPH_BASE_DIR = \"/Users/denis/MyProjects/uncased_L-12_H-768_A-12\""
   ]
  },
  {
   "cell_type": "code",
   "execution_count": 2,
   "outputs": [],
   "source": [
    "import os\n",
    "from bert_experimental.feature_extraction.bert_feature_extractor import BERTFeatureExtractor\n",
    "from tree_rank_summaraiser import TreeRankSummariser\n",
    "import global_const\n",
    "import pandas as pd\n",
    "import glob\n",
    "import time\n",
    "import logging\n",
    "import numpy as np\n",
    "logging.basicConfig(level=logging.DEBUG)"
   ],
   "metadata": {
    "collapsed": false,
    "pycharm": {
     "name": "#%%\n",
     "is_executing": false
    }
   }
  },
  {
   "cell_type": "code",
   "execution_count": 3,
   "outputs": [
    {
     "name": "stderr",
     "text": [
      "2020-05-10 15:04:13,069 :  From /Users/denis/anaconda3/envs/Summarization/lib/python3.6/site-packages/bert_experimental/feature_extraction/text_preprocessing.py:287: The name tf.gfile.GFile is deprecated. Please use tf.io.gfile.GFile instead.\n\n",
      "WARNING:tensorflow:From /Users/denis/anaconda3/envs/Summarization/lib/python3.6/site-packages/bert_experimental/feature_extraction/text_preprocessing.py:287: The name tf.gfile.GFile is deprecated. Please use tf.io.gfile.GFile instead.\n\n",
      "2020-05-10 15:04:13,167 :  From /Users/denis/anaconda3/envs/Summarization/lib/python3.6/site-packages/bert_experimental/feature_extraction/bert_feature_extractor.py:52: The name tf.ConfigProto is deprecated. Please use tf.compat.v1.ConfigProto instead.\n\n",
      "WARNING:tensorflow:From /Users/denis/anaconda3/envs/Summarization/lib/python3.6/site-packages/bert_experimental/feature_extraction/bert_feature_extractor.py:52: The name tf.ConfigProto is deprecated. Please use tf.compat.v1.ConfigProto instead.\n\n",
      "2020-05-10 15:04:13,169 :  From /Users/denis/anaconda3/envs/Summarization/lib/python3.6/site-packages/bert_experimental/feature_extraction/bert_feature_extractor.py:38: The name tf.Session is deprecated. Please use tf.compat.v1.Session instead.\n\n",
      "WARNING:tensorflow:From /Users/denis/anaconda3/envs/Summarization/lib/python3.6/site-packages/bert_experimental/feature_extraction/bert_feature_extractor.py:38: The name tf.Session is deprecated. Please use tf.compat.v1.Session instead.\n\n",
      "2020-05-10 15:04:13,192 :  Using temporary folder as model directory: /var/folders/lx/02q9j0f52ds3f_h7jnq_dvmm0000gp/T/tmpva9g9ptn\n",
      "WARNING:tensorflow:Using temporary folder as model directory: /var/folders/lx/02q9j0f52ds3f_h7jnq_dvmm0000gp/T/tmpva9g9ptn\n",
      "2020-05-10 15:04:13,194 :  Using config: {'_model_dir': '/var/folders/lx/02q9j0f52ds3f_h7jnq_dvmm0000gp/T/tmpva9g9ptn', '_tf_random_seed': None, '_save_summary_steps': 100, '_save_checkpoints_steps': None, '_save_checkpoints_secs': 600, '_session_config': device_count {\n  key: \"GPU\"\n  value: 1\n}\ngpu_options {\n  allow_growth: true\n}\n, '_keep_checkpoint_max': 5, '_keep_checkpoint_every_n_hours': 10000, '_log_step_count_steps': 100, '_train_distribute': None, '_device_fn': None, '_protocol': None, '_eval_distribute': None, '_experimental_distribute': None, '_experimental_max_worker_delay_secs': None, '_session_creation_timeout_secs': 7200, '_service': None, '_cluster_spec': <tensorflow.python.training.server_lib.ClusterSpec object at 0x1459416a0>, '_task_type': 'worker', '_task_id': 0, '_global_id_in_cluster': 0, '_master': '', '_evaluation_master': '', '_is_chief': True, '_num_ps_replicas': 0, '_num_worker_replicas': 1}\n",
      "INFO:tensorflow:Using config: {'_model_dir': '/var/folders/lx/02q9j0f52ds3f_h7jnq_dvmm0000gp/T/tmpva9g9ptn', '_tf_random_seed': None, '_save_summary_steps': 100, '_save_checkpoints_steps': None, '_save_checkpoints_secs': 600, '_session_config': device_count {\n  key: \"GPU\"\n  value: 1\n}\ngpu_options {\n  allow_growth: true\n}\n, '_keep_checkpoint_max': 5, '_keep_checkpoint_every_n_hours': 10000, '_log_step_count_steps': 100, '_train_distribute': None, '_device_fn': None, '_protocol': None, '_eval_distribute': None, '_experimental_distribute': None, '_experimental_max_worker_delay_secs': None, '_session_creation_timeout_secs': 7200, '_service': None, '_cluster_spec': <tensorflow.python.training.server_lib.ClusterSpec object at 0x1459416a0>, '_task_type': 'worker', '_task_id': 0, '_global_id_in_cluster': 0, '_master': '', '_evaluation_master': '', '_is_chief': True, '_num_ps_replicas': 0, '_num_worker_replicas': 1}\n",
      "2020-05-10 15:04:13,196 :  Could not find trained model in model_dir: /var/folders/lx/02q9j0f52ds3f_h7jnq_dvmm0000gp/T/tmpva9g9ptn, running initialization to predict.\n",
      "INFO:tensorflow:Could not find trained model in model_dir: /var/folders/lx/02q9j0f52ds3f_h7jnq_dvmm0000gp/T/tmpva9g9ptn, running initialization to predict.\n",
      "2020-05-10 15:04:13,274 :  Calling model_fn.\n",
      "INFO:tensorflow:Calling model_fn.\n",
      "2020-05-10 15:04:13,276 :  From /Users/denis/anaconda3/envs/Summarization/lib/python3.6/site-packages/bert_experimental/feature_extraction/bert_feature_extractor.py:59: The name tf.GraphDef is deprecated. Please use tf.compat.v1.GraphDef instead.\n\n",
      "WARNING:tensorflow:From /Users/denis/anaconda3/envs/Summarization/lib/python3.6/site-packages/bert_experimental/feature_extraction/bert_feature_extractor.py:59: The name tf.GraphDef is deprecated. Please use tf.compat.v1.GraphDef instead.\n\n",
      "2020-05-10 15:04:15,241 :  Done calling model_fn.\n",
      "INFO:tensorflow:Done calling model_fn.\n",
      "2020-05-10 15:04:15,356 :  From /Users/denis/anaconda3/envs/Summarization/lib/python3.6/site-packages/tensorflow_core/python/ops/array_ops.py:1475: where (from tensorflow.python.ops.array_ops) is deprecated and will be removed in a future version.\nInstructions for updating:\nUse tf.where in 2.0, which has the same broadcast rule as np.where\n",
      "WARNING:tensorflow:From /Users/denis/anaconda3/envs/Summarization/lib/python3.6/site-packages/tensorflow_core/python/ops/array_ops.py:1475: where (from tensorflow.python.ops.array_ops) is deprecated and will be removed in a future version.\nInstructions for updating:\nUse tf.where in 2.0, which has the same broadcast rule as np.where\n",
      "2020-05-10 15:04:15,424 :  Graph was finalized.\n",
      "INFO:tensorflow:Graph was finalized.\n",
      "2020-05-10 15:04:17,849 :  Running local_init_op.\n",
      "INFO:tensorflow:Running local_init_op.\n",
      "2020-05-10 15:04:18,818 :  Done running local_init_op.\n",
      "INFO:tensorflow:Done running local_init_op.\n",
      "2020-05-10 15:04:31,841 :  Initialized.\n",
      "INFO:tensorflow:Initialized.\n"
     ],
     "output_type": "stream"
    }
   ],
   "source": [
    "GRAPH_PATH = os.path.join(GRAPH_BASE_DIR, \"model_for_inference.pbtxt\")\n",
    "VOCAB_PATH = os.path.join(GRAPH_BASE_DIR, \"vocab.txt\")\n",
    "\n",
    "encoder = BERTFeatureExtractor(GRAPH_PATH, VOCAB_PATH)"
   ],
   "metadata": {
    "collapsed": false,
    "pycharm": {
     "name": "#%%\n",
     "is_executing": false
    }
   }
  },
  {
   "cell_type": "code",
   "execution_count": 4,
   "outputs": [],
   "source": [
    "summariser = TreeRankSummariser(3, encoder)"
   ],
   "metadata": {
    "collapsed": false,
    "pycharm": {
     "name": "#%%\n",
     "is_executing": false
    }
   }
  },
  {
   "cell_type": "code",
   "execution_count": 5,
   "outputs": [
    {
     "name": "stderr",
     "text": [
      "DEBUG:tree_rank_summaraiser:Extracted 17 sentences\n",
      "DEBUG:tree_rank_summaraiser:Pattern: (^|[\\.,\":'!?()\\s])(norwegian cruise line|norwegian cruise)($|[\\.,\":'!?()\\s])\n",
      "DEBUG:tree_rank_summaraiser:Sentence 0 got weight. ISIN - Norwegian Cruise Line\n",
      "DEBUG:tree_rank_summaraiser:why carnival corporation, royal caribbean, and norwegian cruise line stocks crashed this morning -- then made it all back\n\nwhat happened\nin early trading monday, shares of carnival corporation (nyse:ccl) sank 8.5% and royal caribbean (nyse:rcl) dove 9.2%, while norwegian cruise line holdings (nyse:nclh) fared worse than either of those -- plunging 12.5%.\n",
      "DEBUG:tree_rank_summaraiser:Sentence 7 got weight. ISIN - Norwegian Cruise Line\n",
      "DEBUG:tree_rank_summaraiser:despite having \"ample evidence to believe their fleet of luxury liners were incubators for the new coronavirus,\" said the article, carnival, royal caribbean, and norwegian cruise (yes, all three were called out by name -- not a blue-chip cruise line was spared) \"continued to fill cruise ships with passengers, endangering those aboard and helping spread covid-19 to the u.s. and around the globe.\"\n",
      "DEBUG:tree_rank_summaraiser:Sentence 8 got weight. ISIN - Norwegian Cruise Line\n",
      "DEBUG:tree_rank_summaraiser:adding to the pain, norwegian cruise line holdings was singled out in a report on miami lawyer jim walker's cruise law news website, detailing how the company recently loaded up its norwegian escape liner with crew bound for miami to transfer to other vessels.\n",
      "DEBUG:tree_rank_summaraiser:Pattern: (^|[\\.,\":'!?()\\s])(carnival corporation|ccl)($|[\\.,\":'!?()\\s])\n",
      "DEBUG:tree_rank_summaraiser:Sentence 0 got weight. ISIN - Carnival corporation\n",
      "DEBUG:tree_rank_summaraiser:why carnival corporation, royal caribbean, and norwegian cruise line stocks crashed this morning -- then made it all back\n\nwhat happened\nin early trading monday, shares of carnival corporation (nyse:ccl) sank 8.5% and royal caribbean (nyse:rcl) dove 9.2%, while norwegian cruise line holdings (nyse:nclh) fared worse than either of those -- plunging 12.5%.\n",
      "DEBUG:tree_rank_summaraiser:Sentence 12 got weight. ISIN - Carnival corporation\n",
      "DEBUG:tree_rank_summaraiser:this morning, carnival corporation's carnival cruise line subsidiary announced that it now has a \"plan to phase in a resumption in our north american service this summer, beginning on august 1 with a total of eight ships [sailing out of] miami, port canaveral and galveston.\"\n",
      "DEBUG:tree_rank_summaraiser:Extracted 16 sentences\n",
      "DEBUG:tree_rank_summaraiser:Pattern: (^|[\\.,\":'!?()\\s])(norwegian cruise line|norwegian cruise)($|[\\.,\":'!?()\\s])\n",
      "DEBUG:tree_rank_summaraiser:Sentence 0 got weight. ISIN - Norwegian Cruise Line\n",
      "DEBUG:tree_rank_summaraiser:nclh investor alert: bronstein, gewirtz & grossman, llc reminds norwegian cruise line holdings ltd. investors of class action and encourages investors with losses in excess of $100,000 to contact the firm.\n",
      "DEBUG:tree_rank_summaraiser:Sentence 1 got weight. ISIN - Norwegian Cruise Line\n",
      "DEBUG:tree_rank_summaraiser:new york, april 29, 2020 (globe newswire) -- attorney advertising -- bronstein, gewirtz & grossman, llc reminds investors that a class action lawsuit has been filed against norwegian cruise line holdings ltd. (\"norwegian\" or the company\") (nyse:nclh) and certain of its officers, on behalf of shareholders who purchased or otherwise acquired norwegian securities between february 20, 2020 and march 12, 2020, both dates inclusive (the \"class period\").\n",
      "DEBUG:tree_rank_summaraiser:Pattern: (^|[\\.,\":'!?()\\s])(carnival corporation|ccl)($|[\\.,\":'!?()\\s])\n",
      "DEBUG:tree_rank_summaraiser:Extracted 23 sentences\n",
      "DEBUG:tree_rank_summaraiser:Pattern: (^|[\\.,\":'!?()\\s])(norwegian cruise line|norwegian cruise)($|[\\.,\":'!?()\\s])\n",
      "DEBUG:tree_rank_summaraiser:Sentence 0 got weight. ISIN - Norwegian Cruise Line\n",
      "DEBUG:tree_rank_summaraiser:nothing seems to go right for carnival, royal caribbean, and norwegian cruise line.\n",
      "DEBUG:tree_rank_summaraiser:Sentence 1 got weight. ISIN - Norwegian Cruise Line\n",
      "DEBUG:tree_rank_summaraiser:just when you thought things couldn't get any worse for carnival (nyse:ccl) (nyse:cuk), royal caribbean (nyse:rcl), and norwegian cruise line holdings (nyse:nclh) -- toiling away in what will probably be the last industry to be back in business after the pandemic passes -- the negative headlines keep coming.\n",
      "DEBUG:tree_rank_summaraiser:Pattern: (^|[\\.,\":'!?()\\s])(carnival corporation|ccl)($|[\\.,\":'!?()\\s])\n",
      "DEBUG:tree_rank_summaraiser:Sentence 1 got weight. ISIN - Carnival corporation\n",
      "DEBUG:tree_rank_summaraiser:just when you thought things couldn't get any worse for carnival (nyse:ccl) (nyse:cuk), royal caribbean (nyse:rcl), and norwegian cruise line holdings (nyse:nclh) -- toiling away in what will probably be the last industry to be back in business after the pandemic passes -- the negative headlines keep coming.\n",
      "DEBUG:tree_rank_summaraiser:Extracted 18 sentences\n",
      "DEBUG:tree_rank_summaraiser:Pattern: (^|[\\.,\":'!?()\\s])(norwegian cruise line|norwegian cruise)($|[\\.,\":'!?()\\s])\n",
      "DEBUG:tree_rank_summaraiser:Sentence 0 got weight. ISIN - Norwegian Cruise Line\n",
      "DEBUG:tree_rank_summaraiser:a look into norwegian cruise line's price over earnings.\n",
      "DEBUG:tree_rank_summaraiser:Sentence 1 got weight. ISIN - Norwegian Cruise Line\n",
      "DEBUG:tree_rank_summaraiser:looking into the current session, norwegian cruise line inc. \nnclh shares are trading at $17.02, after a 3.5% rise.\n",
      "DEBUG:tree_rank_summaraiser:Sentence 12 got weight. ISIN - Norwegian Cruise Line\n",
      "DEBUG:tree_rank_summaraiser:compared to the aggregate p/e ratio of the 9.53 in the travel services industry, norwegian cruise line  has a lower p/e ratio of 3.82.\n",
      "DEBUG:tree_rank_summaraiser:Pattern: (^|[\\.,\":'!?()\\s])(carnival corporation|ccl)($|[\\.,\":'!?()\\s])\n",
      "DEBUG:tree_rank_summaraiser:Extracted 25 sentences\n",
      "DEBUG:tree_rank_summaraiser:Pattern: (^|[\\.,\":'!?()\\s])(norwegian cruise line|norwegian cruise)($|[\\.,\":'!?()\\s])\n",
      "DEBUG:tree_rank_summaraiser:Sentence 0 got weight. ISIN - Norwegian Cruise Line\n",
      "DEBUG:tree_rank_summaraiser:rosen, global investor counsel, encourages investors of norwegian cruise line holdings ltd. to contact the firm prior to the important deadline in suit seeking recovery of investor losses first filed by the firm.\n",
      "DEBUG:tree_rank_summaraiser:Sentence 1 got weight. ISIN - Norwegian Cruise Line\n",
      "DEBUG:tree_rank_summaraiser:new york, may 2, 2020 /prnewswire/ — rosen law firm, a global investor rights law firm, reminds purchasers of the securities of norwegian cruise line holdings ltd. between february 20, 2020 and march 12, 2020, inclusive (the “class period”) of the important may 11, 2020 lead plaintiff deadline in securities class action commenced by the firm.\n",
      "DEBUG:tree_rank_summaraiser:Pattern: (^|[\\.,\":'!?()\\s])(carnival corporation|ccl)($|[\\.,\":'!?()\\s])\n"
     ],
     "output_type": "stream"
    },
    {
     "name": "stdout",
     "text": [
      "/Users/denis/MyProjects/Summarization/data/Companies' news/Norwegian Cruise Line/Why Carnival Corporation, Royal Caribbean, and Nor\n",
      "/Users/denis/MyProjects/Summarization/data/Companies' news/Norwegian Cruise Line/NCLH INVESTOR ALERT: Bronstein, Gewirtz & Grossman\n",
      "/Users/denis/MyProjects/Summarization/data/Companies' news/Norwegian Cruise Line/Nothing Seems to Go Right for Carnival, Royal Cari\n",
      "/Users/denis/MyProjects/Summarization/data/Companies' news/Norwegian Cruise Line/A Look Into Norwegian Cruise Line's Price Over Ear\n",
      "/Users/denis/MyProjects/Summarization/data/Companies' news/Norwegian Cruise Line/ROSEN, GLOBAL INVESTOR COUNSEL, Encourages Investo\n"
     ],
     "output_type": "stream"
    }
   ],
   "source": [
    "pattern_str = \"/Users/denis/MyProjects/Summarization/data/Companies' news/Norwegian Cruise Line/*\"\n",
    "files_list = glob.glob(pattern_str)\n",
    "data_list = []\n",
    "company_name_list = [\"Norwegian Cruise Line\", \"Norwegian Cruise\"]\n",
    "# company_name_list = [\"Carnival\"]\n",
    "# company_name_list = [\"Pfizer\"]\n",
    "\n",
    "companies = [\n",
    "    {\n",
    "        global_const.COMPANY_ISIN: \"Norwegian Cruise Line\",\n",
    "        global_const.COMPANY_NAMES: [\"Norwegian Cruise Line\", \"Norwegian Cruise\"]\n",
    "     },\n",
    "    {\n",
    "        global_const.COMPANY_ISIN: \"Carnival corporation\",\n",
    "        global_const.COMPANY_NAMES: [\"carnival corporation\", \"ccl\"]\n",
    "    }\n",
    "]\n",
    "\n",
    "time_list = []\n",
    "for path in files_list:\n",
    "    print(path)\n",
    "    with open(path) as file:\n",
    "        article_str = file.read()\n",
    "    \n",
    "    start = time.time()\n",
    "    article_sum_dict = summariser.get_summary_for_companies(article_str, companies)\n",
    "    finish = time.time()\n",
    "    time_list.append(finish - start)\n",
    "    for isin, summary in article_sum_dict.items():\n",
    "        data_list.append({\n",
    "            \"News\": article_str,\n",
    "            \"Summarization\": summary,\n",
    "            \"isin\": isin\n",
    "        })\n",
    "    \n",
    "pd.DataFrame(data=data_list).to_excel(f\"/Users/denis/MyProjects/Summarization/data/Companies' news/Norwegian Cruise Line.xls\")"
   ],
   "metadata": {
    "collapsed": false,
    "pycharm": {
     "name": "#%%\n",
     "is_executing": false
    }
   }
  },
  {
   "cell_type": "code",
   "execution_count": 6,
   "outputs": [],
   "source": [
    "time_np = np.array(time_list)"
   ],
   "metadata": {
    "collapsed": false,
    "pycharm": {
     "name": "#%%\n",
     "is_executing": false
    }
   }
  },
  {
   "cell_type": "code",
   "execution_count": 7,
   "outputs": [
    {
     "data": {
      "text/plain": "1.1977033138275146"
     },
     "metadata": {},
     "output_type": "execute_result",
     "execution_count": 7
    }
   ],
   "source": [
    "time_np.mean()"
   ],
   "metadata": {
    "collapsed": false,
    "pycharm": {
     "name": "#%%\n",
     "is_executing": false
    }
   }
  },
  {
   "cell_type": "code",
   "execution_count": 8,
   "outputs": [
    {
     "data": {
      "text/plain": "1.0589218139648438"
     },
     "metadata": {},
     "output_type": "execute_result",
     "execution_count": 8
    }
   ],
   "source": [
    "np.median(time_np)"
   ],
   "metadata": {
    "collapsed": false,
    "pycharm": {
     "name": "#%%\n",
     "is_executing": false
    }
   }
  },
  {
   "cell_type": "code",
   "execution_count": 9,
   "outputs": [
    {
     "data": {
      "text/plain": "array([1.05892181, 0.92600584, 1.52645612, 1.05520892, 1.42192388])"
     },
     "metadata": {},
     "output_type": "execute_result",
     "execution_count": 9
    }
   ],
   "source": [
    "time_np"
   ],
   "metadata": {
    "collapsed": false,
    "pycharm": {
     "name": "#%%\n",
     "is_executing": false
    }
   }
  },
  {
   "cell_type": "code",
   "execution_count": null,
   "outputs": [],
   "source": [
    "\n"
   ],
   "metadata": {
    "collapsed": false,
    "pycharm": {
     "name": "#%%\n"
    }
   }
  }
 ],
 "metadata": {
  "language_info": {
   "codemirror_mode": {
    "name": "ipython",
    "version": 2
   },
   "file_extension": ".py",
   "mimetype": "text/x-python",
   "name": "python",
   "nbconvert_exporter": "python",
   "pygments_lexer": "ipython2",
   "version": "2.7.6"
  },
  "kernelspec": {
   "name": "python3",
   "language": "python",
   "display_name": "Python 3"
  },
  "pycharm": {
   "stem_cell": {
    "cell_type": "raw",
    "source": [],
    "metadata": {
     "collapsed": false
    }
   }
  }
 },
 "nbformat": 4,
 "nbformat_minor": 0
}