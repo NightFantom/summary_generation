{
 "cells": [
  {
   "cell_type": "code",
   "execution_count": 1,
   "metadata": {
    "collapsed": true,
    "pycharm": {
     "is_executing": false
    }
   },
   "outputs": [],
   "source": [
    "BASE_DIR = \"/Users/denis/MyProjects/Summarization\"\n",
    "GRAPH_BASE_DIR = \"/Users/denis/MyProjects/uncased_L-12_H-768_A-12\""
   ]
  },
  {
   "cell_type": "code",
   "execution_count": 2,
   "outputs": [],
   "source": [
    "# from importlib import reload\n",
    "# from IPython.lib.deepreload import reload\n",
    "# reload(tree_rank_summaraiser)"
   ],
   "metadata": {
    "collapsed": false,
    "pycharm": {
     "name": "#%%\n",
     "is_executing": false
    }
   }
  },
  {
   "cell_type": "code",
   "execution_count": 3,
   "outputs": [],
   "source": [
    "import os\n",
    "import numpy as np\n",
    "from bert_experimental.feature_extraction.bert_feature_extractor import BERTFeatureExtractor\n",
    "from tree_rank_summaraiser import TreeRankSummariser\n",
    "from data_generators.article_reference_yml_gen import ArticleReferenceGenerator\n",
    "import global_const as glob_cont\n",
    "import rouge\n",
    "from tqdm import tqdm\n",
    "from utils import evaluate"
   ],
   "metadata": {
    "collapsed": false,
    "pycharm": {
     "name": "#%%\n",
     "is_executing": false
    }
   }
  },
  {
   "cell_type": "code",
   "execution_count": 5,
   "outputs": [
    {
     "name": "stderr",
     "text": [
      "2020-05-02 19:25:31,791 :  From /Users/denis/anaconda3/envs/Summarization/lib/python3.6/site-packages/bert_experimental/feature_extraction/text_preprocessing.py:287: The name tf.gfile.GFile is deprecated. Please use tf.io.gfile.GFile instead.\n\n",
      "2020-05-02 19:25:31,895 :  From /Users/denis/anaconda3/envs/Summarization/lib/python3.6/site-packages/bert_experimental/feature_extraction/bert_feature_extractor.py:52: The name tf.ConfigProto is deprecated. Please use tf.compat.v1.ConfigProto instead.\n\n",
      "2020-05-02 19:25:31,896 :  From /Users/denis/anaconda3/envs/Summarization/lib/python3.6/site-packages/bert_experimental/feature_extraction/bert_feature_extractor.py:38: The name tf.Session is deprecated. Please use tf.compat.v1.Session instead.\n\n",
      "2020-05-02 19:25:31,911 :  Using temporary folder as model directory: /var/folders/lx/02q9j0f52ds3f_h7jnq_dvmm0000gp/T/tmp725iecfv\n",
      "2020-05-02 19:25:31,913 :  Using config: {'_model_dir': '/var/folders/lx/02q9j0f52ds3f_h7jnq_dvmm0000gp/T/tmp725iecfv', '_tf_random_seed': None, '_save_summary_steps': 100, '_save_checkpoints_steps': None, '_save_checkpoints_secs': 600, '_session_config': device_count {\n  key: \"GPU\"\n  value: 1\n}\ngpu_options {\n  allow_growth: true\n}\n, '_keep_checkpoint_max': 5, '_keep_checkpoint_every_n_hours': 10000, '_log_step_count_steps': 100, '_train_distribute': None, '_device_fn': None, '_protocol': None, '_eval_distribute': None, '_experimental_distribute': None, '_experimental_max_worker_delay_secs': None, '_session_creation_timeout_secs': 7200, '_service': None, '_cluster_spec': <tensorflow.python.training.server_lib.ClusterSpec object at 0x1459d0828>, '_task_type': 'worker', '_task_id': 0, '_global_id_in_cluster': 0, '_master': '', '_evaluation_master': '', '_is_chief': True, '_num_ps_replicas': 0, '_num_worker_replicas': 1}\n",
      "2020-05-02 19:25:31,914 :  Could not find trained model in model_dir: /var/folders/lx/02q9j0f52ds3f_h7jnq_dvmm0000gp/T/tmp725iecfv, running initialization to predict.\n",
      "2020-05-02 19:25:31,975 :  Calling model_fn.\n",
      "2020-05-02 19:25:31,977 :  From /Users/denis/anaconda3/envs/Summarization/lib/python3.6/site-packages/bert_experimental/feature_extraction/bert_feature_extractor.py:59: The name tf.GraphDef is deprecated. Please use tf.compat.v1.GraphDef instead.\n\n",
      "2020-05-02 19:25:34,354 :  Done calling model_fn.\n",
      "2020-05-02 19:25:34,384 :  From /Users/denis/anaconda3/envs/Summarization/lib/python3.6/site-packages/tensorflow_core/python/ops/array_ops.py:1475: where (from tensorflow.python.ops.array_ops) is deprecated and will be removed in a future version.\nInstructions for updating:\nUse tf.where in 2.0, which has the same broadcast rule as np.where\n",
      "2020-05-02 19:25:34,445 :  Graph was finalized.\n",
      "2020-05-02 19:25:37,898 :  Running local_init_op.\n",
      "2020-05-02 19:25:39,574 :  Done running local_init_op.\n",
      "2020-05-02 19:25:54,391 :  Initialized.\n"
     ],
     "output_type": "stream"
    }
   ],
   "source": [
    "GRAPH_PATH = os.path.join(GRAPH_BASE_DIR, \"model_for_inference.pbtxt\")\n",
    "VOCAB_PATH = os.path.join(GRAPH_BASE_DIR, \"vocab.txt\")\n",
    "\n",
    "encoder = BERTFeatureExtractor(GRAPH_PATH, VOCAB_PATH)\n",
    "summariser = TreeRankSummariser(4, encoder)"
   ],
   "metadata": {
    "collapsed": false,
    "pycharm": {
     "name": "#%%\n",
     "is_executing": false
    }
   }
  },
  {
   "cell_type": "code",
   "execution_count": 6,
   "outputs": [],
   "source": [
    "source = os.path.join(BASE_DIR, \"data/yaml_format/article_summary_dataset.yml\")\n",
    "generator = ArticleReferenceGenerator(source)"
   ],
   "metadata": {
    "collapsed": false,
    "pycharm": {
     "name": "#%%\n",
     "is_executing": false
    }
   }
  },
  {
   "cell_type": "code",
   "execution_count": 7,
   "outputs": [],
   "source": [
    "rouge_metric = rouge.Rouge(metrics=['rouge-n', 'rouge-l', 'rouge-w'],\n",
    "                           max_n=4,\n",
    "                           limit_length=False,\n",
    "                           length_limit_type='words',\n",
    "                           apply_avg=True,\n",
    "                           # apply_best=apply_best,\n",
    "                           stemming=True)\n"
   ],
   "metadata": {
    "collapsed": false,
    "pycharm": {
     "name": "#%%\n",
     "is_executing": false
    }
   }
  },
  {
   "cell_type": "code",
   "execution_count": 8,
   "outputs": [
    {
     "name": "stderr",
     "text": [
      "\r  0%|          | 0/2225 [00:00<?, ?it/s]",
      "\r  0%|          | 1/2225 [00:02<1:28:29,  2.39s/it]",
      "\r  0%|          | 2/2225 [00:04<1:23:31,  2.25s/it]",
      "\r  0%|          | 3/2225 [00:05<1:09:24,  1.87s/it]",
      "\r  0%|          | 4/2225 [00:05<55:19,  1.49s/it]  ",
      "\r  0%|          | 5/2225 [00:06<48:38,  1.31s/it]",
      "\r  0%|          | 6/2225 [00:08<50:07,  1.36s/it]",
      "\r  0%|          | 7/2225 [00:09<43:08,  1.17s/it]",
      "\r  0%|          | 8/2225 [00:09<38:37,  1.05s/it]",
      "\r  0%|          | 9/2225 [00:10<34:04,  1.08it/s]",
      "\r  0%|          | 10/2225 [00:11<37:44,  1.02s/it]",
      "\r  0%|          | 11/2225 [00:12<40:15,  1.09s/it]",
      "\r  1%|          | 12/2225 [00:14<40:42,  1.10s/it]",
      "\r  1%|          | 13/2225 [00:14<34:21,  1.07it/s]",
      "\r  1%|          | 14/2225 [00:15<31:42,  1.16it/s]",
      "\r  1%|          | 15/2225 [00:16<31:10,  1.18it/s]",
      "\r  1%|          | 16/2225 [00:17<38:57,  1.06s/it]",
      "\r  1%|          | 17/2225 [00:18<36:07,  1.02it/s]",
      "\r  1%|          | 18/2225 [00:19<35:22,  1.04it/s]",
      "\r  1%|          | 19/2225 [00:20<42:56,  1.17s/it]",
      "\r  1%|          | 20/2225 [00:21<38:25,  1.05s/it]",
      "\r  1%|          | 21/2225 [00:24<54:55,  1.50s/it]",
      "\r  1%|          | 22/2225 [00:25<50:01,  1.36s/it]",
      "\r  1%|          | 23/2225 [00:26<46:08,  1.26s/it]",
      "\r  1%|          | 24/2225 [00:27<39:52,  1.09s/it]",
      "\r  1%|          | 25/2225 [00:27<33:37,  1.09it/s]",
      "\r  1%|          | 25/2225 [00:29<42:46,  1.17s/it]",
      "\n"
     ],
     "output_type": "stream"
    },
    {
     "name": "stdout",
     "text": [
      "Meteor score: 0.8021724444444445\n\trouge-1:\tP: 65.43\tR: 97.25\tF1: 78.23\n\trouge-2:\tP: 62.11\tR: 92.59\tF1: 74.35\n\trouge-3:\tP: 60.00\tR: 89.72\tF1: 71.91\n\trouge-4:\tP: 57.86\tR: 86.79\tF1: 69.43\n\trouge-l:\tP: 33.95\tR: 50.46\tF1: 40.59\n\trouge-w:\tP: 33.95\tR: 50.46\tF1: 40.59\n",
      "Meteor score: 0.4549952126554722\n\trouge-1:\tP: 45.82\tR: 63.43\tF1: 50.91\n\trouge-2:\tP: 34.51\tR: 46.11\tF1: 38.12\n\trouge-3:\tP: 31.27\tR: 41.90\tF1: 34.66\n\trouge-4:\tP: 29.52\tR: 39.76\tF1: 32.82\n\trouge-l:\tP: 30.37\tR: 42.20\tF1: 33.78\n\trouge-w:\tP: 30.37\tR: 42.20\tF1: 33.78\n",
      "Meteor score: 0.4682315613173675\n",
      "\trouge-1:\tP: 49.78\tR: 63.79\tF1: 54.13\n\trouge-2:\tP: 37.60\tR: 46.66\tF1: 40.48\n\trouge-3:\tP: 34.47\tR: 42.82\tF1: 37.16\n\trouge-4:\tP: 32.77\tR: 40.77\tF1: 35.35\n\trouge-l:\tP: 33.50\tR: 42.78\tF1: 36.37\n\trouge-w:\tP: 33.50\tR: 42.78\tF1: 36.37\n",
      "Meteor score: 0.501564144004798\n",
      "\trouge-1:\tP: 51.58\tR: 66.46\tF1: 56.37\n\trouge-2:\tP: 40.01\tR: 50.65\tF1: 43.49\n\trouge-3:\tP: 36.68\tR: 46.55\tF1: 39.92\n\trouge-4:\tP: 35.00\tR: 44.47\tF1: 38.11\n\trouge-l:\tP: 36.78\tR: 47.07\tF1: 40.08\n\trouge-w:\tP: 36.78\tR: 47.07\tF1: 40.08\n",
      "Meteor score: 0.5007580840186301\n",
      "\trouge-1:\tP: 49.13\tR: 66.91\tF1: 54.83\n\trouge-2:\tP: 38.27\tR: 51.42\tF1: 42.48\n\trouge-3:\tP: 35.32\tR: 47.63\tF1: 39.26\n\trouge-4:\tP: 33.86\tR: 45.81\tF1: 37.69\n\trouge-l:\tP: 35.51\tR: 48.24\tF1: 39.57\n\trouge-w:\tP: 35.51\tR: 48.24\tF1: 39.57\n",
      "Meteor score: 0.509065332361724\n"
     ],
     "output_type": "stream"
    },
    {
     "traceback": [
      "\u001b[0;31m---------------------------------------------------------------------------\u001b[0m",
      "\u001b[0;31mKeyboardInterrupt\u001b[0m                         Traceback (most recent call last)",
      "\u001b[0;32m<ipython-input-8-ebc646fd9900>\u001b[0m in \u001b[0;36m<module>\u001b[0;34m\u001b[0m\n\u001b[1;32m     14\u001b[0m \u001b[0;34m\u001b[0m\u001b[0m\n\u001b[1;32m     15\u001b[0m     \u001b[0;32mif\u001b[0m \u001b[0mcount\u001b[0m \u001b[0;34m%\u001b[0m \u001b[0;36m5\u001b[0m \u001b[0;34m==\u001b[0m \u001b[0;36m0\u001b[0m\u001b[0;34m:\u001b[0m\u001b[0;34m\u001b[0m\u001b[0;34m\u001b[0m\u001b[0m\n\u001b[0;32m---> 16\u001b[0;31m         \u001b[0mevaluate\u001b[0m\u001b[0;34m(\u001b[0m\u001b[0mrouge_metric\u001b[0m\u001b[0;34m,\u001b[0m \u001b[0mall_hypothesis\u001b[0m\u001b[0;34m,\u001b[0m \u001b[0mall_references\u001b[0m\u001b[0;34m)\u001b[0m\u001b[0;34m\u001b[0m\u001b[0;34m\u001b[0m\u001b[0m\n\u001b[0m\u001b[1;32m     17\u001b[0m         \u001b[0mcount\u001b[0m \u001b[0;34m+=\u001b[0m \u001b[0;36m1\u001b[0m\u001b[0;34m\u001b[0m\u001b[0;34m\u001b[0m\u001b[0m\n\u001b[1;32m     18\u001b[0m     \u001b[0;32melse\u001b[0m\u001b[0;34m:\u001b[0m\u001b[0;34m\u001b[0m\u001b[0;34m\u001b[0m\u001b[0m\n",
      "\u001b[0;32m~/MyProjects/Summarization/src/utils.py\u001b[0m in \u001b[0;36mevaluate\u001b[0;34m(rouge_metric, all_hypothesis, all_references)\u001b[0m\n\u001b[1;32m     15\u001b[0m     \u001b[0mprint\u001b[0m\u001b[0;34m(\u001b[0m\u001b[0;34mf\"Meteor score: {meteor_score_int}\"\u001b[0m\u001b[0;34m)\u001b[0m\u001b[0;34m\u001b[0m\u001b[0;34m\u001b[0m\u001b[0m\n\u001b[1;32m     16\u001b[0m \u001b[0;34m\u001b[0m\u001b[0m\n\u001b[0;32m---> 17\u001b[0;31m     \u001b[0mscores\u001b[0m \u001b[0;34m=\u001b[0m \u001b[0mrouge_metric\u001b[0m\u001b[0;34m.\u001b[0m\u001b[0mget_scores\u001b[0m\u001b[0;34m(\u001b[0m\u001b[0mall_hypothesis\u001b[0m\u001b[0;34m,\u001b[0m \u001b[0mall_references\u001b[0m\u001b[0;34m)\u001b[0m\u001b[0;34m\u001b[0m\u001b[0;34m\u001b[0m\u001b[0m\n\u001b[0m\u001b[1;32m     18\u001b[0m     \u001b[0;32mfor\u001b[0m \u001b[0mmetric\u001b[0m\u001b[0;34m,\u001b[0m \u001b[0mresults\u001b[0m \u001b[0;32min\u001b[0m \u001b[0msorted\u001b[0m\u001b[0;34m(\u001b[0m\u001b[0mscores\u001b[0m\u001b[0;34m.\u001b[0m\u001b[0mitems\u001b[0m\u001b[0;34m(\u001b[0m\u001b[0;34m)\u001b[0m\u001b[0;34m,\u001b[0m \u001b[0mkey\u001b[0m\u001b[0;34m=\u001b[0m\u001b[0;32mlambda\u001b[0m \u001b[0mx\u001b[0m\u001b[0;34m:\u001b[0m \u001b[0mx\u001b[0m\u001b[0;34m[\u001b[0m\u001b[0;36m0\u001b[0m\u001b[0;34m]\u001b[0m\u001b[0;34m)\u001b[0m\u001b[0;34m:\u001b[0m\u001b[0;34m\u001b[0m\u001b[0;34m\u001b[0m\u001b[0m\n\u001b[1;32m     19\u001b[0m         \u001b[0mprint\u001b[0m\u001b[0;34m(\u001b[0m\u001b[0mprepare_results\u001b[0m\u001b[0;34m(\u001b[0m\u001b[0mmetric\u001b[0m\u001b[0;34m,\u001b[0m \u001b[0mresults\u001b[0m\u001b[0;34m[\u001b[0m\u001b[0;34m'p'\u001b[0m\u001b[0;34m]\u001b[0m\u001b[0;34m,\u001b[0m \u001b[0mresults\u001b[0m\u001b[0;34m[\u001b[0m\u001b[0;34m'r'\u001b[0m\u001b[0;34m]\u001b[0m\u001b[0;34m,\u001b[0m \u001b[0mresults\u001b[0m\u001b[0;34m[\u001b[0m\u001b[0;34m'f'\u001b[0m\u001b[0;34m]\u001b[0m\u001b[0;34m)\u001b[0m\u001b[0;34m)\u001b[0m\u001b[0;34m\u001b[0m\u001b[0;34m\u001b[0m\u001b[0m\n",
      "\u001b[0;32m~/anaconda3/envs/Summarization/lib/python3.6/site-packages/rouge/rouge.py\u001b[0m in \u001b[0;36mget_scores\u001b[0;34m(self, hypothesis, references)\u001b[0m\n\u001b[1;32m    479\u001b[0m         \u001b[0mhas_rouge_l_metric\u001b[0m \u001b[0;34m=\u001b[0m \u001b[0mlen\u001b[0m\u001b[0;34m(\u001b[0m\u001b[0;34m[\u001b[0m\u001b[0mmetric\u001b[0m \u001b[0;32mfor\u001b[0m \u001b[0mmetric\u001b[0m \u001b[0;32min\u001b[0m \u001b[0mself\u001b[0m\u001b[0;34m.\u001b[0m\u001b[0mmetrics\u001b[0m \u001b[0;32mif\u001b[0m \u001b[0mmetric\u001b[0m\u001b[0;34m.\u001b[0m\u001b[0msplit\u001b[0m\u001b[0;34m(\u001b[0m\u001b[0;34m'-'\u001b[0m\u001b[0;34m)\u001b[0m\u001b[0;34m[\u001b[0m\u001b[0;34m-\u001b[0m\u001b[0;36m1\u001b[0m\u001b[0;34m]\u001b[0m\u001b[0;34m.\u001b[0m\u001b[0mlower\u001b[0m\u001b[0;34m(\u001b[0m\u001b[0;34m)\u001b[0m \u001b[0;34m==\u001b[0m \u001b[0;34m'l'\u001b[0m\u001b[0;34m]\u001b[0m\u001b[0;34m)\u001b[0m \u001b[0;34m>\u001b[0m \u001b[0;36m0\u001b[0m\u001b[0;34m\u001b[0m\u001b[0;34m\u001b[0m\u001b[0m\n\u001b[1;32m    480\u001b[0m         \u001b[0;32mif\u001b[0m \u001b[0mhas_rouge_l_metric\u001b[0m\u001b[0;34m:\u001b[0m\u001b[0;34m\u001b[0m\u001b[0;34m\u001b[0m\u001b[0m\n\u001b[0;32m--> 481\u001b[0;31m             \u001b[0mscores\u001b[0m \u001b[0;34m=\u001b[0m \u001b[0;34m{\u001b[0m\u001b[0;34m**\u001b[0m\u001b[0mscores\u001b[0m\u001b[0;34m,\u001b[0m \u001b[0;34m**\u001b[0m\u001b[0mself\u001b[0m\u001b[0;34m.\u001b[0m\u001b[0m_get_scores_rouge_l_or_w\u001b[0m\u001b[0;34m(\u001b[0m\u001b[0mhypothesis\u001b[0m\u001b[0;34m,\u001b[0m \u001b[0mreferences\u001b[0m\u001b[0;34m,\u001b[0m \u001b[0;32mFalse\u001b[0m\u001b[0;34m)\u001b[0m\u001b[0;34m}\u001b[0m\u001b[0;34m\u001b[0m\u001b[0;34m\u001b[0m\u001b[0m\n\u001b[0m\u001b[1;32m    482\u001b[0m \u001b[0;34m\u001b[0m\u001b[0m\n\u001b[1;32m    483\u001b[0m         \u001b[0mhas_rouge_w_metric\u001b[0m \u001b[0;34m=\u001b[0m \u001b[0mlen\u001b[0m\u001b[0;34m(\u001b[0m\u001b[0;34m[\u001b[0m\u001b[0mmetric\u001b[0m \u001b[0;32mfor\u001b[0m \u001b[0mmetric\u001b[0m \u001b[0;32min\u001b[0m \u001b[0mself\u001b[0m\u001b[0;34m.\u001b[0m\u001b[0mmetrics\u001b[0m \u001b[0;32mif\u001b[0m \u001b[0mmetric\u001b[0m\u001b[0;34m.\u001b[0m\u001b[0msplit\u001b[0m\u001b[0;34m(\u001b[0m\u001b[0;34m'-'\u001b[0m\u001b[0;34m)\u001b[0m\u001b[0;34m[\u001b[0m\u001b[0;34m-\u001b[0m\u001b[0;36m1\u001b[0m\u001b[0;34m]\u001b[0m\u001b[0;34m.\u001b[0m\u001b[0mlower\u001b[0m\u001b[0;34m(\u001b[0m\u001b[0;34m)\u001b[0m \u001b[0;34m==\u001b[0m \u001b[0;34m'w'\u001b[0m\u001b[0;34m]\u001b[0m\u001b[0;34m)\u001b[0m \u001b[0;34m>\u001b[0m \u001b[0;36m0\u001b[0m\u001b[0;34m\u001b[0m\u001b[0;34m\u001b[0m\u001b[0m\n",
      "\u001b[0;32m~/anaconda3/envs/Summarization/lib/python3.6/site-packages/rouge/rouge.py\u001b[0m in \u001b[0;36m_get_scores_rouge_l_or_w\u001b[0;34m(self, all_hypothesis, all_references, use_w)\u001b[0m\n\u001b[1;32m    605\u001b[0m \u001b[0;34m\u001b[0m\u001b[0m\n\u001b[1;32m    606\u001b[0m                 \u001b[0;32mfor\u001b[0m \u001b[0mreference_sentences\u001b[0m \u001b[0;32min\u001b[0m \u001b[0mreferences_sentences\u001b[0m\u001b[0;34m:\u001b[0m\u001b[0;34m\u001b[0m\u001b[0;34m\u001b[0m\u001b[0m\n\u001b[0;32m--> 607\u001b[0;31m                     \u001b[0mhypothesis_count\u001b[0m\u001b[0;34m,\u001b[0m \u001b[0mreference_count\u001b[0m\u001b[0;34m,\u001b[0m \u001b[0moverlapping_ngrams\u001b[0m \u001b[0;34m=\u001b[0m \u001b[0mRouge\u001b[0m\u001b[0;34m.\u001b[0m\u001b[0m_compute_ngrams_lcs\u001b[0m\u001b[0;34m(\u001b[0m\u001b[0mhypothesis_sentences\u001b[0m\u001b[0;34m,\u001b[0m \u001b[0mreference_sentences\u001b[0m\u001b[0;34m,\u001b[0m \u001b[0mself\u001b[0m\u001b[0;34m.\u001b[0m\u001b[0mweight_factor\u001b[0m \u001b[0;32mif\u001b[0m \u001b[0muse_w\u001b[0m \u001b[0;32melse\u001b[0m \u001b[0;36m1.0\u001b[0m\u001b[0;34m)\u001b[0m\u001b[0;34m\u001b[0m\u001b[0;34m\u001b[0m\u001b[0m\n\u001b[0m\u001b[1;32m    608\u001b[0m                     \u001b[0mtotal_hypothesis_ngrams_count\u001b[0m \u001b[0;34m+=\u001b[0m \u001b[0mhypothesis_count\u001b[0m\u001b[0;34m\u001b[0m\u001b[0;34m\u001b[0m\u001b[0m\n\u001b[1;32m    609\u001b[0m                     \u001b[0mtotal_reference_ngrams_count\u001b[0m \u001b[0;34m+=\u001b[0m \u001b[0mreference_count\u001b[0m\u001b[0;34m\u001b[0m\u001b[0;34m\u001b[0m\u001b[0m\n",
      "\u001b[0;32m~/anaconda3/envs/Summarization/lib/python3.6/site-packages/rouge/rouge.py\u001b[0m in \u001b[0;36m_compute_ngrams_lcs\u001b[0;34m(evaluated_sentences, reference_sentences, weight_factor)\u001b[0m\n\u001b[1;32m    424\u001b[0m                     \u001b[0m_\u001b[0m\u001b[0;34m,\u001b[0m \u001b[0mlcs_dirs\u001b[0m \u001b[0;34m=\u001b[0m \u001b[0m_wlcs\u001b[0m\u001b[0;34m(\u001b[0m\u001b[0mreference_sentence_tokens\u001b[0m\u001b[0;34m,\u001b[0m \u001b[0mevaluated_sentence_tokens\u001b[0m\u001b[0;34m,\u001b[0m \u001b[0mweight_factor\u001b[0m\u001b[0;34m)\u001b[0m\u001b[0;34m\u001b[0m\u001b[0;34m\u001b[0m\u001b[0m\n\u001b[1;32m    425\u001b[0m                 \u001b[0;32melse\u001b[0m\u001b[0;34m:\u001b[0m\u001b[0;34m\u001b[0m\u001b[0;34m\u001b[0m\u001b[0m\n\u001b[0;32m--> 426\u001b[0;31m                     \u001b[0m_\u001b[0m\u001b[0;34m,\u001b[0m \u001b[0mlcs_dirs\u001b[0m \u001b[0;34m=\u001b[0m \u001b[0m_lcs\u001b[0m\u001b[0;34m(\u001b[0m\u001b[0mreference_sentence_tokens\u001b[0m\u001b[0;34m,\u001b[0m \u001b[0mevaluated_sentence_tokens\u001b[0m\u001b[0;34m)\u001b[0m\u001b[0;34m\u001b[0m\u001b[0;34m\u001b[0m\u001b[0m\n\u001b[0m\u001b[1;32m    427\u001b[0m                 \u001b[0m_mark_lcs\u001b[0m\u001b[0;34m(\u001b[0m\u001b[0mhit_mask\u001b[0m\u001b[0;34m,\u001b[0m \u001b[0mlcs_dirs\u001b[0m\u001b[0;34m,\u001b[0m \u001b[0mlen\u001b[0m\u001b[0;34m(\u001b[0m\u001b[0mreference_sentence_tokens\u001b[0m\u001b[0;34m)\u001b[0m\u001b[0;34m,\u001b[0m \u001b[0mlen\u001b[0m\u001b[0;34m(\u001b[0m\u001b[0mevaluated_sentence_tokens\u001b[0m\u001b[0;34m)\u001b[0m\u001b[0;34m)\u001b[0m\u001b[0;34m\u001b[0m\u001b[0;34m\u001b[0m\u001b[0m\n\u001b[1;32m    428\u001b[0m \u001b[0;34m\u001b[0m\u001b[0m\n",
      "\u001b[0;32m~/anaconda3/envs/Summarization/lib/python3.6/site-packages/rouge/rouge.py\u001b[0m in \u001b[0;36m_lcs\u001b[0;34m(x, y)\u001b[0m\n\u001b[1;32m    352\u001b[0m                     \u001b[0;32melif\u001b[0m \u001b[0mvals\u001b[0m\u001b[0;34m[\u001b[0m\u001b[0mi\u001b[0m \u001b[0;34m-\u001b[0m \u001b[0;36m1\u001b[0m\u001b[0;34m,\u001b[0m \u001b[0mj\u001b[0m\u001b[0;34m]\u001b[0m \u001b[0;34m>=\u001b[0m \u001b[0mvals\u001b[0m\u001b[0;34m[\u001b[0m\u001b[0mi\u001b[0m\u001b[0;34m,\u001b[0m \u001b[0mj\u001b[0m \u001b[0;34m-\u001b[0m \u001b[0;36m1\u001b[0m\u001b[0;34m]\u001b[0m\u001b[0;34m:\u001b[0m\u001b[0;34m\u001b[0m\u001b[0;34m\u001b[0m\u001b[0m\n\u001b[1;32m    353\u001b[0m                         \u001b[0mvals\u001b[0m\u001b[0;34m[\u001b[0m\u001b[0mi\u001b[0m\u001b[0;34m,\u001b[0m \u001b[0mj\u001b[0m\u001b[0;34m]\u001b[0m \u001b[0;34m=\u001b[0m \u001b[0mvals\u001b[0m\u001b[0;34m[\u001b[0m\u001b[0mi\u001b[0m \u001b[0;34m-\u001b[0m \u001b[0;36m1\u001b[0m\u001b[0;34m,\u001b[0m \u001b[0mj\u001b[0m\u001b[0;34m]\u001b[0m\u001b[0;34m\u001b[0m\u001b[0;34m\u001b[0m\u001b[0m\n\u001b[0;32m--> 354\u001b[0;31m                         \u001b[0mdirs\u001b[0m\u001b[0;34m[\u001b[0m\u001b[0mi\u001b[0m\u001b[0;34m,\u001b[0m \u001b[0mj\u001b[0m\u001b[0;34m]\u001b[0m \u001b[0;34m=\u001b[0m \u001b[0;34m'^'\u001b[0m\u001b[0;34m\u001b[0m\u001b[0;34m\u001b[0m\u001b[0m\n\u001b[0m\u001b[1;32m    355\u001b[0m                     \u001b[0;32melse\u001b[0m\u001b[0;34m:\u001b[0m\u001b[0;34m\u001b[0m\u001b[0;34m\u001b[0m\u001b[0m\n\u001b[1;32m    356\u001b[0m                         \u001b[0mvals\u001b[0m\u001b[0;34m[\u001b[0m\u001b[0mi\u001b[0m\u001b[0;34m,\u001b[0m \u001b[0mj\u001b[0m\u001b[0;34m]\u001b[0m \u001b[0;34m=\u001b[0m \u001b[0mvals\u001b[0m\u001b[0;34m[\u001b[0m\u001b[0mi\u001b[0m\u001b[0;34m,\u001b[0m \u001b[0mj\u001b[0m \u001b[0;34m-\u001b[0m \u001b[0;36m1\u001b[0m\u001b[0;34m]\u001b[0m\u001b[0;34m\u001b[0m\u001b[0;34m\u001b[0m\u001b[0m\n",
      "\u001b[0;31mKeyboardInterrupt\u001b[0m: "
     ],
     "ename": "KeyboardInterrupt",
     "evalue": "",
     "output_type": "error"
    }
   ],
   "source": [
    "all_hypothesis = []\n",
    "all_references = []\n",
    "\n",
    "count = 0\n",
    "for sample_dict in tqdm(generator, total=generator.shape[0]):\n",
    "    article_str = sample_dict[glob_cont.TF_RECORD_ARTICLE]\n",
    "    summary_str = sample_dict[glob_cont.TF_RECORD_SUMMARY]\n",
    "    label_str = sample_dict[glob_cont.TF_RECORD_LABEL]\n",
    "    article_sum_list = summariser.get_summary(article_str)\n",
    "    generated_sum = \". \".join(article_sum_list)\n",
    "    \n",
    "    all_hypothesis.append(summary_str)\n",
    "    all_references.append(generated_sum)\n",
    "    \n",
    "    if count % 5 == 0:\n",
    "        evaluate(rouge_metric, all_hypothesis, all_references)\n",
    "        count += 1\n",
    "    else:\n",
    "        count += 1\n",
    "    summary_path = os.path.join(BASE_DIR, f\"output/generated_summary/{label_str}\")\n",
    "    with open(summary_path, mode=\"w\") as file:\n",
    "        for s in article_sum_list:\n",
    "            file.write(s)\n",
    "            file.write(\"\\n\")\n",
    "\n",
    "evaluate(rouge_metric, all_hypothesis, all_references)"
   ],
   "metadata": {
    "collapsed": false,
    "pycharm": {
     "name": "#%%\n",
     "is_executing": false
    }
   }
  }
 ],
 "metadata": {
  "language_info": {
   "codemirror_mode": {
    "name": "ipython",
    "version": 2
   },
   "file_extension": ".py",
   "mimetype": "text/x-python",
   "name": "python",
   "nbconvert_exporter": "python",
   "pygments_lexer": "ipython2",
   "version": "2.7.6"
  },
  "kernelspec": {
   "name": "python3",
   "language": "python",
   "display_name": "Python 3"
  },
  "pycharm": {
   "stem_cell": {
    "cell_type": "raw",
    "source": [],
    "metadata": {
     "collapsed": false
    }
   }
  }
 },
 "nbformat": 4,
 "nbformat_minor": 0
}